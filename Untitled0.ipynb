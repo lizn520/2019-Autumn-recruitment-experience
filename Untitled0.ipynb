{
  "nbformat": 4,
  "nbformat_minor": 0,
  "metadata": {
    "colab": {
      "name": "Untitled0.ipynb",
      "version": "0.3.2",
      "provenance": [],
      "toc_visible": true,
      "include_colab_link": true
    },
    "kernelspec": {
      "name": "python3",
      "display_name": "Python 3"
    },
    "accelerator": "GPU"
  },
  "cells": [
    {
      "cell_type": "markdown",
      "metadata": {
        "id": "view-in-github",
        "colab_type": "text"
      },
      "source": [
        "<a href=\"https://colab.research.google.com/github/lizn520/2019-Autumn-recruitment-experience/blob/master/Untitled0.ipynb\" target=\"_parent\"><img src=\"https://colab.research.google.com/assets/colab-badge.svg\" alt=\"Open In Colab\"/></a>"
      ]
    },
    {
      "metadata": {
        "id": "M-_AS25aoU9J",
        "colab_type": "code",
        "colab": {}
      },
      "cell_type": "code",
      "source": [
        ""
      ],
      "execution_count": 0,
      "outputs": []
    },
    {
      "metadata": {
        "id": "dIxS69kJobWA",
        "colab_type": "text"
      },
      "cell_type": "markdown",
      "source": [
        "# 两层神经网络训练mnist"
      ]
    },
    {
      "metadata": {
        "id": "igJbbYkRl-QE",
        "colab_type": "text"
      },
      "cell_type": "markdown",
      "source": [
        ""
      ]
    },
    {
      "metadata": {
        "id": "-wlp-c7toq-d",
        "colab_type": "code",
        "colab": {}
      },
      "cell_type": "code",
      "source": [
        "# coding: utf-8\n",
        "import tensorflow as tf\n",
        "from tensorflow.examples.tutorials.mnist import input_data\n",
        "\n",
        "\n",
        "def weight_variable(shape):\n",
        "    initial = tf.truncated_normal(shape, stddev=0.1)\n",
        "    return tf.Variable(initial)\n",
        "\n",
        "\n",
        "def bias_variable(shape):\n",
        "    initial = tf.constant(0.1, shape=shape)\n",
        "    return tf.Variable(initial)\n",
        "\n",
        "\n",
        "def conv2d(x, W):\n",
        "    return tf.nn.conv2d(x, W, strides=[1, 1, 1, 1], padding='SAME')\n",
        "\n",
        "\n",
        "def max_pool_2x2(x):\n",
        "    return tf.nn.max_pool(x, ksize=[1, 2, 2, 1],\n",
        "                          strides=[1, 2, 2, 1], padding='SAME')\n",
        "\n",
        "\n",
        "if __name__ == '__main__':\n",
        "    # 读入数据\n",
        "    mnist = input_data.read_data_sets(\"MNIST_data/\", one_hot=True)\n",
        "    # x为训练图像的占位符、y_为训练图像标签的占位符\n",
        "    x = tf.placeholder(tf.float32, [None, 784])\n",
        "    y_ = tf.placeholder(tf.float32, [None, 10])\n",
        "\n",
        "    # 将单张图片从784维向量重新还原为28x28的矩阵图片\n",
        "    x_image = tf.reshape(x, [-1, 28, 28, 1])\n",
        "\n",
        "    # 第一层卷积层\n",
        "    W_conv1 = weight_variable([5, 5, 1, 32])\n",
        "    b_conv1 = bias_variable([32])\n",
        "    h_conv1 = tf.nn.relu(conv2d(x_image, W_conv1) + b_conv1)\n",
        "    h_pool1 = max_pool_2x2(h_conv1)\n",
        "\n",
        "    # 第二层卷积层\n",
        "    W_conv2 = weight_variable([5, 5, 32, 64])\n",
        "    b_conv2 = bias_variable([64])\n",
        "    h_conv2 = tf.nn.relu(conv2d(h_pool1, W_conv2) + b_conv2)\n",
        "    h_pool2 = max_pool_2x2(h_conv2)\n",
        "\n",
        "    # 全连接层，输出为1024维的向量\n",
        "    W_fc1 = weight_variable([7 * 7 * 64, 1024])\n",
        "    b_fc1 = bias_variable([1024])\n",
        "    h_pool2_flat = tf.reshape(h_pool2, [-1, 7 * 7 * 64])\n",
        "    h_fc1 = tf.nn.relu(tf.matmul(h_pool2_flat, W_fc1) + b_fc1)\n",
        "    # 使用Dropout，keep_prob是一个占位符，训练时为0.5，测试时为1\n",
        "    keep_prob = tf.placeholder(tf.float32)\n",
        "    h_fc1_drop = tf.nn.dropout(h_fc1, keep_prob)\n",
        "\n",
        "    # 把1024维的向量转换成10维，对应10个类别\n",
        "    W_fc2 = weight_variable([1024, 10])\n",
        "    b_fc2 = bias_variable([10])\n",
        "    y_conv = tf.matmul(h_fc1_drop, W_fc2) + b_fc2\n",
        "\n",
        "    # 我们不采用先Softmax再计算交叉熵的方法，而是直接用tf.nn.softmax_cross_entropy_with_logits直接计算\n",
        "    cross_entropy = tf.reduce_mean(\n",
        "        tf.nn.softmax_cross_entropy_with_logits(labels=y_, logits=y_conv))\n",
        "    # 同样定义train_step\n",
        "    train_step = tf.train.AdamOptimizer(1e-4).minimize(cross_entropy)\n",
        "\n",
        "    # 定义测试的准确率\n",
        "    correct_prediction = tf.equal(tf.argmax(y_conv, 1), tf.argmax(y_, 1))\n",
        "    accuracy = tf.reduce_mean(tf.cast(correct_prediction, tf.float32))\n",
        "\n",
        "    # 创建Session和变量初始化\n",
        "    sess = tf.InteractiveSession()\n",
        "    sess.run(tf.global_variables_initializer())\n",
        "\n",
        "    # 训练20000步\n",
        "    for i in range(20000):\n",
        "        batch = mnist.train.next_batch(50)\n",
        "        # 每100步报告一次在验证集上的准确度\n",
        "        if i % 100 == 0:\n",
        "            train_accuracy = accuracy.eval(feed_dict={\n",
        "                x: batch[0], y_: batch[1], keep_prob: 1.0})\n",
        "            print(\"step %d, training accuracy %g\" % (i, train_accuracy))\n",
        "        train_step.run(feed_dict={x: batch[0], y_: batch[1], keep_prob: 0.5})\n",
        "\n",
        "    # 训练结束后报告在测试集上的准确度\n",
        "    print(\"test accuracy %g\" % accuracy.eval(feed_dict={\n",
        "        x: mnist.test.images, y_: mnist.test.labels, keep_prob: 1.0}))\n"
      ],
      "execution_count": 0,
      "outputs": []
    },
    {
      "metadata": {
        "id": "60ltmk31bPka",
        "colab_type": "text"
      },
      "cell_type": "markdown",
      "source": [
        "# 视频学习笔记"
      ]
    },
    {
      "metadata": {
        "id": "DHpzIfQLKSwi",
        "colab_type": "code",
        "colab": {}
      },
      "cell_type": "code",
      "source": [
        "#import tensorflow as tf\n",
        "x=tf.z"
      ],
      "execution_count": 0,
      "outputs": []
    }
  ]
}